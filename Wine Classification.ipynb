{
 "cells": [
  {
   "cell_type": "code",
   "execution_count": 1,
   "metadata": {},
   "outputs": [],
   "source": [
    "import numpy as np\n",
    "import pandas as pd\n",
    "import matplotlib.pyplot as plt\n",
    "import nltk\n",
    "import sklearn\n",
    "from sklearn import metrics\n",
    "from sklearn.linear_model import LinearRegression\n",
    "from sklearn.linear_model import Ridge\n",
    "from sklearn.metrics import precision_score,recall_score,f1_score,accuracy_score\n",
    "from sklearn.metrics import r2_score\n",
    "from sklearn import linear_model\n",
    "from sklearn.model_selection import train_test_split\n"
   ]
  },
  {
   "cell_type": "markdown",
   "metadata": {},
   "source": [
    "### Linear\n"
   ]
  },
  {
   "cell_type": "code",
   "execution_count": 2,
   "metadata": {},
   "outputs": [
    {
     "name": "stdout",
     "output_type": "stream",
     "text": [
      "Number of wine samples from test: 980\n",
      "\n",
      "Number of wine samples from train: 3918\n",
      "\n"
     ]
    }
   ],
   "source": [
    "wine_test=pd.read_csv('wine_test.csv',delimiter=';')\n",
    "wine_train=pd.read_csv('wine_train.csv',delimiter=';')\n",
    "print (\"Number of wine samples from test: \"+str(len(wine_test))+\"\\n\")\n",
    "print (\"Number of wine samples from train: \"+str(len(wine_train))+\"\\n\")\n",
    "#quality_wine_test=wine_test['quality']\n",
    "#quality_wine_train=wine_train['quality']"
   ]
  },
  {
   "cell_type": "code",
   "execution_count": 3,
   "metadata": {},
   "outputs": [],
   "source": [
    "X=wine_train.drop('quality',axis=1)\n",
    "Y=wine_train['quality']"
   ]
  },
  {
   "cell_type": "code",
   "execution_count": 4,
   "metadata": {},
   "outputs": [
    {
     "name": "stdout",
     "output_type": "stream",
     "text": [
      "122.48431268560607\n",
      "[ 4.39297855e-02 -1.72644537e+00  3.65079151e-02  6.92924121e-02\n",
      " -4.77157498e-01  5.08909682e-03 -6.50540503e-04 -1.22527033e+02\n",
      "  6.98909755e-01  5.80303719e-01  2.21593391e-01]\n"
     ]
    }
   ],
   "source": [
    "x_train,null,y_train,null1=train_test_split(X,Y) #values are set to null as \n",
    "                                                 #they are not required \n",
    "x_test=wine_test.drop('quality',axis=1) # removes the quality collumn\n",
    "y_test=wine_test['quality']\n",
    "model=LinearRegression() \n",
    "model.fit(x_train,y_train)\n",
    "print(model.intercept_)\n",
    "print(model.coef_)\n",
    "y_predict=model.predict(x_test)"
   ]
  },
  {
   "cell_type": "code",
   "execution_count": 5,
   "metadata": {},
   "outputs": [
    {
     "name": "stdout",
     "output_type": "stream",
     "text": [
      "     Actual Quality From Test Data Set   Predicted Quality\n",
      "506                                  6            5.590037\n",
      "5                                    6            5.726641\n",
      "441                                  5            5.685517\n",
      "495                                  5            5.487017\n",
      "459                                  5            5.667402\n",
      "786                                  7            6.670751\n",
      "342                                  6            6.524760\n",
      "705                                  7            6.870957\n",
      "386                                  6            5.382789\n",
      "195                                  6            5.973311\n",
      "358                                  6            5.265038\n",
      "892                                  5            5.582353\n",
      "100                                  7            5.895927\n",
      "510                                  6            6.312233\n",
      "671                                  6            6.800598\n",
      "526                                  6            5.314176\n",
      "774                                  7            6.567378\n",
      "845                                  5            5.407566\n",
      "810                                  6            5.490925\n",
      "865                                  5            6.108628\n",
      "735                                  6            6.464542\n",
      "768                                  4            5.262395\n",
      "944                                  6            6.061682\n",
      "540                                  5            5.915848\n",
      "911                                  6            6.546963\n",
      "27                                   5            5.506370\n",
      "684                                  5            6.157425\n",
      "630                                  5            5.500742\n",
      "910                                  6            6.107113\n",
      "797                                  6            6.356283\n",
      "13                                   6            5.819909\n",
      "818                                  7            6.428052\n",
      "194                                  6            6.240083\n",
      "394                                  6            5.234729\n",
      "668                                  7            6.580031\n",
      "107                                  6            5.630535\n",
      "481                                  6            6.353678\n",
      "169                                  6            5.489209\n",
      "212                                  7            5.702138\n",
      "39                                   5            6.016178\n"
     ]
    }
   ],
   "source": [
    "df = pd.DataFrame({'Actual Quality From Test Data Set': y_test, ' Predicted Quality': y_predict})\n",
    "from sklearn.utils import shuffle\n",
    "df = shuffle(df)\n",
    "df=df.head(40)\n",
    "print(df)"
   ]
  },
  {
   "cell_type": "code",
   "execution_count": 6,
   "metadata": {
    "scrolled": false
   },
   "outputs": [
    {
     "data": {
      "image/png": "[encoded data removed]",
      "text/plain": [
       "<Figure size 864x720 with 1 Axes>"
      ]
     },
     "metadata": {
      "needs_background": "light"
     },
     "output_type": "display_data"
    }
   ],
   "source": [
    "df.plot(kind='bar',figsize=(12,10))\n",
    "plt.xlabel('Wine',fontsize='16')\n",
    "plt.ylabel('Quality',fontsize='16')\n",
    "plt.grid()\n",
    "plt.show()"
   ]
  },
  {
   "cell_type": "code",
   "execution_count": 7,
   "metadata": {},
   "outputs": [
    {
     "name": "stdout",
     "output_type": "stream",
     "text": [
      "The R2 score is: 0.239\n",
      "Root Mean Squared Error: 0.775\n"
     ]
    }
   ],
   "source": [
    "from sklearn.svm import LinearSVC, SVC\n",
    "from sklearn.calibration import CalibratedClassifierCV\n",
    "R2=round(r2_score(y_test,y_predict),3)\n",
    "print('The R2 score is:',R2)\n",
    "RMSE=round(np.sqrt(metrics.mean_squared_error(y_test, y_predict)),3)\n",
    "print('Root Mean Squared Error:', RMSE)\n"
   ]
  },
  {
   "cell_type": "code",
   "execution_count": 8,
   "metadata": {},
   "outputs": [
    {
     "name": "stdout",
     "output_type": "stream",
     "text": [
      "122.48431268560607\n",
      "[ 4.39297855e-02 -1.72644537e+00  3.65079151e-02  6.92924121e-02\n",
      " -4.77157498e-01  5.08909682e-03 -6.50540503e-04 -1.22527033e+02\n",
      "  6.98909755e-01  5.80303719e-01  2.21593391e-01]\n",
      "     Actual Quality From Test Data Set   Predicted Quality\n",
      "402                                  6            6.512899\n",
      "845                                  5            5.420548\n",
      "131                                  7            6.187092\n",
      "620                                  5            5.331164\n",
      "877                                  6            6.571085\n",
      "119                                  7            5.788513\n",
      "372                                  7            5.553003\n",
      "82                                   7            5.630543\n",
      "483                                  6            5.496491\n",
      "408                                  5            5.800778\n",
      "234                                  8            6.250093\n",
      "57                                   5            5.545720\n",
      "876                                  6            6.323251\n",
      "731                                  6            5.683841\n",
      "184                                  7            6.088561\n",
      "715                                  6            5.775377\n",
      "643                                  6            6.517441\n",
      "958                                  5            5.966949\n",
      "559                                  7            6.047042\n",
      "533                                  6            5.267510\n",
      "571                                  6            6.328606\n",
      "537                                  5            6.257230\n",
      "288                                  5            5.811965\n",
      "582                                  7            6.401421\n",
      "398                                  6            5.727424\n",
      "738                                  6            5.426068\n",
      "692                                  8            6.933115\n",
      "353                                  7            6.670204\n",
      "722                                  5            5.316333\n",
      "650                                  5            6.110315\n",
      "904                                  6            6.724855\n",
      "487                                  7            6.414949\n",
      "744                                  5            5.785000\n",
      "75                                   5            4.963668\n",
      "403                                  7            6.238163\n",
      "467                                  5            5.262443\n",
      "788                                  6            5.759562\n",
      "23                                   4            5.246687\n",
      "934                                  6            6.819714\n",
      "337                                  4            4.737742\n"
     ]
    }
   ],
   "source": [
    "ridge_reg = linear_model.Ridge(alpha=0.5)\n",
    "ridge_reg.fit(x_train, y_train)\n",
    "y_predicted = ridge_reg.predict(x_test)\n",
    "model.fit(x_train,y_train)\n",
    "print(model.intercept_)\n",
    "print(model.coef_)\n",
    "y_predict=model.predict(x_test)\n",
    "\n",
    "df = pd.DataFrame({'Actual Quality From Test Data Set': y_test, ' Predicted Quality': y_predicted})\n",
    "df=shuffle(df)\n",
    "df=df.head(40)\n",
    "print(df)"
   ]
  },
  {
   "cell_type": "code",
   "execution_count": 9,
   "metadata": {},
   "outputs": [
    {
     "data": {
      "image/png": "[encoded data removed]",
      "text/plain": [
       "<Figure size 864x720 with 1 Axes>"
      ]
     },
     "metadata": {
      "needs_background": "light"
     },
     "output_type": "display_data"
    }
   ],
   "source": [
    "df.plot(kind='bar',figsize=(12,10))\n",
    "plt.xlabel('Wine',fontsize='16')\n",
    "plt.ylabel('Quality',fontsize='16')\n",
    "plt.grid()\n",
    "plt.show()"
   ]
  },
  {
   "cell_type": "code",
   "execution_count": 10,
   "metadata": {},
   "outputs": [
    {
     "name": "stdout",
     "output_type": "stream",
     "text": [
      "The R2 score is: 0.229\n",
      "Root Mean Squared Error: 0.78\n"
     ]
    }
   ],
   "source": [
    "R2=round(r2_score(y_test,y_predicted),3)\n",
    "print('The R2 score is:',R2)\n",
    "RMSE=round(np.sqrt(metrics.mean_squared_error(y_test, y_predicted)),3)\n",
    "print('Root Mean Squared Error:', RMSE)"
   ]
  }
 ],
 "metadata": {
  "kernelspec": {
   "display_name": "Python 3",
   "language": "python",
   "name": "python3"
  },
  "language_info": {
   "codemirror_mode": {
    "name": "ipython",
    "version": 3
   },
   "file_extension": ".py",
   "mimetype": "text/x-python",
   "name": "python",
   "nbconvert_exporter": "python",
   "pygments_lexer": "ipython3",
   "version": "3.7.3"
  }
 },
 "nbformat": 4,
 "nbformat_minor": 2
}
